{
 "cells": [
  {
   "cell_type": "code",
   "execution_count": 2,
   "metadata": {},
   "outputs": [
    {
     "name": "stdout",
     "output_type": "stream",
     "text": [
      "Populating the interactive namespace from numpy and matplotlib\n"
     ]
    }
   ],
   "source": [
    "%matplotlib notebook\n",
    "%pylab inline"
   ]
  },
  {
   "cell_type": "code",
   "execution_count": 17,
   "metadata": {},
   "outputs": [],
   "source": [
    "def count_set_bits(input):\n",
    "    return (input & 0x01) + ((input & 0x02) >> 1) + ((input & 0x04) >> 2) +  ((input & 0x08)>>3) + ((input & 0x10)>>4) +((input & 0x20) >>5)+((input & 0x40)>>6) + ((input & 0x80)>>7)\n",
    "\n",
    "def compare_bytearray(b1,b2):\n",
    "    diffCnt = 0\t\n",
    "    for (a, b) in zip(b1,b2):\n",
    "        diff = a^b\n",
    "        diffCnt = diffCnt + count_set_bits(diff)\n",
    "    return diffCnt\n",
    "\n",
    "size=1024\n",
    "dataCmp = bytearray(size-4)"
   ]
  },
  {
   "cell_type": "code",
   "execution_count": 19,
   "metadata": {},
   "outputs": [],
   "source": [
    "from scapy.all import *                                                                                                                                                  \n",
    "\n",
    "scapy_cap = rdpcap('./dump04_filtered.pcap')\n",
    "timestamps = []\n",
    "dBm_antSignals = []\n",
    "diffs = []\n",
    "\n",
    "for packet in scapy_cap:\n",
    "    #print(packet.show())\n",
    "    #print(packet.load)\n",
    "    #break\n",
    "    #print(packet[RadioTap].ChannelFrequency)\n",
    "    #print(packet[RadioTap].dBm_AntSignal)\n",
    "    if packet[Dot11FCS].addr3 == '13:22:33:44:55:66':\n",
    "        #print(packet.time, packet[RadioTap].dBm_AntSignal)\n",
    "        timestamps.append(packet.time)\n",
    "        dBm_antSignals.append(packet.dBm_AntSignal)\n",
    "        try:\n",
    "            diff = int(compare_bytearray(packet.load, dataCmp))\n",
    "            diffs.append(diff)\n",
    "        except:\n",
    "            diffs.append(-1)"
   ]
  },
  {
   "cell_type": "code",
   "execution_count": 22,
   "metadata": {},
   "outputs": [
    {
     "data": {
      "image/png": "[encoded data removed]",
      "text/plain": [
       "<Figure size 432x288 with 1 Axes>"
      ]
     },
     "metadata": {
      "needs_background": "light"
     },
     "output_type": "display_data"
    }
   ],
   "source": [
    "#plot(timestamps, dBm_antSignals)\n",
    "plot(timestamps, diffs, 'o')\n",
    "\n",
    "xlabel(\"Time\")\n",
    "ylabel(\"Bits flipped\")\n",
    "grid()"
   ]
  },
  {
   "cell_type": "code",
   "execution_count": 24,
   "metadata": {},
   "outputs": [],
   "source": [
    "diffs = numpy.array(diffs)"
   ]
  },
  {
   "cell_type": "code",
   "execution_count": 27,
   "metadata": {},
   "outputs": [
    {
     "data": {
      "text/plain": [
       "454.0229551451187"
      ]
     },
     "execution_count": 27,
     "metadata": {},
     "output_type": "execute_result"
    }
   ],
   "source": [
    "numpy.average(diffs)"
   ]
  },
  {
   "cell_type": "code",
   "execution_count": 34,
   "metadata": {},
   "outputs": [
    {
     "data": {
      "text/plain": [
       "1400.1000000000004"
      ]
     },
     "execution_count": 34,
     "metadata": {},
     "output_type": "execute_result"
    }
   ],
   "source": [
    "numpy.percentile(diffs, 90)"
   ]
  },
  {
   "cell_type": "code",
   "execution_count": 51,
   "metadata": {},
   "outputs": [
    {
     "data": {
      "text/plain": [
       "(array([3.41796651e-03, 6.66359857e-04, 4.30836114e-04, 3.05278161e-04,\n",
       "        2.15828377e-04, 1.73155086e-04, 1.52639080e-04, 1.44432678e-04,\n",
       "        1.23916673e-04, 8.94497837e-05, 6.72924978e-05, 6.48305772e-05,\n",
       "        4.75971326e-05, 3.77494500e-05, 5.08796935e-05, 3.69288098e-05,\n",
       "        3.36462489e-05, 3.93907304e-05, 2.79017674e-05, 2.05160054e-05,\n",
       "        1.31302435e-05, 1.31302435e-05, 1.47715239e-05, 9.84768261e-06,\n",
       "        3.28256087e-06, 5.74448152e-06, 8.20640218e-07, 0.00000000e+00,\n",
       "        8.20640218e-07, 8.20640218e-07, 8.20640218e-07, 0.00000000e+00,\n",
       "        8.20640218e-07, 0.00000000e+00, 0.00000000e+00, 0.00000000e+00,\n",
       "        1.64128044e-06, 1.64128044e-06, 0.00000000e+00, 8.20640218e-07,\n",
       "        0.00000000e+00, 8.20640218e-07, 8.20640218e-07, 8.20640218e-07,\n",
       "        0.00000000e+00, 8.20640218e-07, 8.20640218e-07, 0.00000000e+00,\n",
       "        0.00000000e+00, 1.64128044e-06]),\n",
       " array([-1.00000e+00,  1.59760e+02,  3.20520e+02,  4.81280e+02,\n",
       "         6.42040e+02,  8.02800e+02,  9.63560e+02,  1.12432e+03,\n",
       "         1.28508e+03,  1.44584e+03,  1.60660e+03,  1.76736e+03,\n",
       "         1.92812e+03,  2.08888e+03,  2.24964e+03,  2.41040e+03,\n",
       "         2.57116e+03,  2.73192e+03,  2.89268e+03,  3.05344e+03,\n",
       "         3.21420e+03,  3.37496e+03,  3.53572e+03,  3.69648e+03,\n",
       "         3.85724e+03,  4.01800e+03,  4.17876e+03,  4.33952e+03,\n",
       "         4.50028e+03,  4.66104e+03,  4.82180e+03,  4.98256e+03,\n",
       "         5.14332e+03,  5.30408e+03,  5.46484e+03,  5.62560e+03,\n",
       "         5.78636e+03,  5.94712e+03,  6.10788e+03,  6.26864e+03,\n",
       "         6.42940e+03,  6.59016e+03,  6.75092e+03,  6.91168e+03,\n",
       "         7.07244e+03,  7.23320e+03,  7.39396e+03,  7.55472e+03,\n",
       "         7.71548e+03,  7.87624e+03,  8.03700e+03]),\n",
       " <BarContainer object of 50 artists>)"
      ]
     },
     "execution_count": 51,
     "metadata": {},
     "output_type": "execute_result"
    },
    {
     "data": {
      "image/png": "[encoded data removed]",
      "text/plain": [
       "<Figure size 432x288 with 1 Axes>"
      ]
     },
     "metadata": {
      "needs_background": "light"
     },
     "output_type": "display_data"
    }
   ],
   "source": [
    "plt.hist(diffs, 50, density=True, facecolor='g')"
   ]
  },
  {
   "cell_type": "code",
   "execution_count": 46,
   "metadata": {},
   "outputs": [
    {
     "data": {
      "text/plain": [
       "7580"
      ]
     },
     "execution_count": 46,
     "metadata": {},
     "output_type": "execute_result"
    }
   ],
   "source": [
    "len(diffs)"
   ]
  },
  {
   "cell_type": "code",
   "execution_count": 53,
   "metadata": {},
   "outputs": [
    {
     "data": {
      "text/plain": [
       "1359"
      ]
     },
     "execution_count": 53,
     "metadata": {},
     "output_type": "execute_result"
    }
   ],
   "source": [
    "numpy.count_nonzero(diffs==0)"
   ]
  },
  {
   "cell_type": "code",
   "execution_count": 56,
   "metadata": {},
   "outputs": [
    {
     "data": {
      "text/plain": [
       "Decimal('94.670684')"
      ]
     },
     "execution_count": 56,
     "metadata": {},
     "output_type": "execute_result"
    }
   ],
   "source": [
    "timestamps[-1] - timestamps[0]"
   ]
  },
  {
   "cell_type": "code",
   "execution_count": 61,
   "metadata": {},
   "outputs": [
    {
     "data": {
      "text/plain": [
       "Decimal('640.5361980906359565332812003')"
      ]
     },
     "execution_count": 61,
     "metadata": {},
     "output_type": "execute_result"
    }
   ],
   "source": [
    "len(diffs) / (timestamps[-1] - timestamps[0]) * 8 # KiloBits per second"
   ]
  },
  {
   "cell_type": "code",
   "execution_count": null,
   "metadata": {},
   "outputs": [],
   "source": []
  }
 ],
 "metadata": {
  "kernelspec": {
   "display_name": "Python 3",
   "language": "python",
   "name": "python3"
  },
  "language_info": {
   "codemirror_mode": {
    "name": "ipython",
    "version": 3
   },
   "file_extension": ".py",
   "mimetype": "text/x-python",
   "name": "python",
   "nbconvert_exporter": "python",
   "pygments_lexer": "ipython3",
   "version": "3.8.5"
  }
 },
 "nbformat": 4,
 "nbformat_minor": 4
}
